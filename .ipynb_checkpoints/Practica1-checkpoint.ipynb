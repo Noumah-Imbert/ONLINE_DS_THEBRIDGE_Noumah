{
 "cells": [
  {
   "cell_type": "markdown",
   "id": "fd2582da-1fb0-4ee6-b228-7e12c6a0fb34",
   "metadata": {},
   "source": [
    "# Ejercicio 1\n",
    "\n",
    "## Lo mas importante\n",
    "\n",
    "+ Matemáticas\n",
    "+ Python\n",
    "+ SQL\n",
    "\n",
    "![foto logo](./logo.png)\n",
    "\n",
    "Otro tema importante es el *Business Intelligence*\n",
    "\n",
    "Si tienes dudas, puedes escribirme a: [jaime.gonzales@thebridgeschool.com](jaime.gonzales@thebridgeschool.com)\n",
    "\n",
    "Y en esta pagina se aprende mucho de [ML](www.kaggle.com)"
   ]
  },
  {
   "cell_type": "markdown",
   "id": "ece53432-6dda-4f16-bb70-b1782c61f07f",
   "metadata": {},
   "source": [
    "---"
   ]
  },
  {
   "cell_type": "markdown",
   "id": "5c27c2a6-e95c-4542-9ec9-28d021ca1ecd",
   "metadata": {},
   "source": [
    "# Ejercicio 2"
   ]
  },
  {
   "cell_type": "markdown",
   "id": "d2d159b4-1f86-47ae-a692-0687384d1af8",
   "metadata": {},
   "source": [
    "| Ramp up |Data analysis |Machine Learning |Data&Business | \n",
    "|:-------------------:|:---:|:---:|:---:|\n",
    "| Python |EDA |Supervised |Productivizacion | \n",
    "|Estadistica|R |Non supervised |Storytelling | \n",
    "| SQL |Feat.eng. |Deep Learning |API | \n"
   ]
  },
  {
   "cell_type": "markdown",
   "id": "83401419-2c27-44b0-9cb2-2b6c8e1b3260",
   "metadata": {},
   "source": [
    "                                            *No pude encontrar como resaltar una fila de color azul* "
   ]
  },
  {
   "cell_type": "markdown",
   "id": "ef82c812-bc74-47cc-8017-652a31f6eb02",
   "metadata": {},
   "source": [
    "$$\\sqrt{3x - 1} + (1 + x)^2 $$"
   ]
  }
 ],
 "metadata": {
  "kernelspec": {
   "display_name": "Python 3 (ipykernel)",
   "language": "python",
   "name": "python3"
  },
  "language_info": {
   "codemirror_mode": {
    "name": "ipython",
    "version": 3
   },
   "file_extension": ".py",
   "mimetype": "text/x-python",
   "name": "python",
   "nbconvert_exporter": "python",
   "pygments_lexer": "ipython3",
   "version": "3.11.3"
  }
 },
 "nbformat": 4,
 "nbformat_minor": 5
}
