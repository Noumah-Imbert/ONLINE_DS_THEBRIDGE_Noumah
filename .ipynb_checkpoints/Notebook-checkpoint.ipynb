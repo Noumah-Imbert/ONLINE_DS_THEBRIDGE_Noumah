{
 "cells": [
  {
   "cell_type": "code",
   "execution_count": 1,
   "id": "c589eada-095b-4452-a92a-f7eca00b47a6",
   "metadata": {},
   "outputs": [
    {
     "name": "stdout",
     "output_type": "stream",
     "text": [
      "diamante\n"
     ]
    }
   ],
   "source": [
    "print (\"diamante\")"
   ]
  },
  {
   "cell_type": "markdown",
   "id": "efe47232-8c77-47ca-b234-c62f51c0f073",
   "metadata": {},
   "source": [
    "Hola mundo"
   ]
  },
  {
   "cell_type": "code",
   "execution_count": null,
   "id": "f71286dd-737a-4c0e-922c-d05dafea3a82",
   "metadata": {},
   "outputs": [],
   "source": []
  }
 ],
 "metadata": {
  "kernelspec": {
   "display_name": "Python 3 (ipykernel)",
   "language": "python",
   "name": "python3"
  },
  "language_info": {
   "codemirror_mode": {
    "name": "ipython",
    "version": 3
   },
   "file_extension": ".py",
   "mimetype": "text/x-python",
   "name": "python",
   "nbconvert_exporter": "python",
   "pygments_lexer": "ipython3",
   "version": "3.11.3"
  }
 },
 "nbformat": 4,
 "nbformat_minor": 5
}
