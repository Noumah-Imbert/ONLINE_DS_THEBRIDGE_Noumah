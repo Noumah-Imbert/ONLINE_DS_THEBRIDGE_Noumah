{
 "cells": [
  {
   "cell_type": "markdown",
   "metadata": {},
   "source": [
    "#### Data Set\n",
    "\n",
    "Como informacion voy a usar principalmente el dataset proporcionado por netflix que toma informacion sobre las peliculas y series mas vistas globalmente por cada semana en los ultimos 3 años. Para definir el top 10 netflix se basa en las horas vistas de la serie/pelicula esa semana\n",
    "Tambien usare como complementos otras bases de datos que vaya investigando a medida que hago el EDA.\n"
   ]
  },
  {
   "cell_type": "markdown",
   "metadata": {},
   "source": [
    "Las columnas se componen de la siguiente manera:\n",
    "\n",
    "| Nombre | Informacion\n",
    "|----------|----------\n",
    "| week | Semana sobra la que toma informacion  | \n",
    "| weekly_rank| Ranking del 1 al 10   | \n",
    "| show_title    | Titulo de la pelicula/serie   | \n",
    "| season_title | nombre de la temporada(si la tiene)   | \n",
    "| weekly_hours_viewed| Horas vistas esa semana   | \n",
    "| runtime    | Duracion en horas del producto   | \n",
    "| weekly_views | Veces vita esa semana   | \n",
    "| cumulative_weeks_in_top_10| Cantidad de semanas totales en el top 10   | \n",
    "| is_staggered_launch    | Si fue un lanzamiento escalonado  | \n",
    "| episode_launch_details    | Detalles del lanzamiento escalonado   | \n",
    "\n"
   ]
  },
  {
   "cell_type": "markdown",
   "metadata": {},
   "source": [
    "Lo que busco encontrar entre todos estos datos es:\n",
    "- Las producciones mas vistas en los ultimos 3 años\n",
    "- Ver si estas producciones coinciden con una critica positiva, negativa, o ninguna de las dos. \n",
    "- Ver si coincide lo mas visto con lo que mas duró en el top 10 a lo largo de las semanas\n",
    "- Intentar hacer alguna recomendacion basada en todo lo anterior\n",
    "- Otras preguntas que me puedan surgir haciendolo"
   ]
  },
  {
   "cell_type": "markdown",
   "metadata": {},
   "source": []
  }
 ],
 "metadata": {
  "kernelspec": {
   "display_name": "Python 3",
   "language": "python",
   "name": "python3"
  },
  "language_info": {
   "name": "python",
   "version": "3.11.3"
  }
 },
 "nbformat": 4,
 "nbformat_minor": 2
}
